{
 "cells": [
  {
   "cell_type": "markdown",
   "metadata": {},
   "source": [
    "## Machine Learning Homework 2\n",
    "## Billio Jeverson | 1002939\n"
   ]
  },
  {
   "cell_type": "markdown",
   "metadata": {},
   "source": [
    "## Question 1 "
   ]
  },
  {
   "cell_type": "code",
   "execution_count": 1,
   "metadata": {
    "collapsed": true
   },
   "outputs": [],
   "source": [
    "import pandas as pd\n",
    "import numpy as np\n",
    "%matplotlib inline\n",
    "import matplotlib.pyplot as plt"
   ]
  },
  {
   "cell_type": "code",
   "execution_count": 2,
   "metadata": {
    "scrolled": true
   },
   "outputs": [
    {
     "data": {
      "text/html": [
       "<div>\n",
       "<style>\n",
       "    .dataframe thead tr:only-child th {\n",
       "        text-align: right;\n",
       "    }\n",
       "\n",
       "    .dataframe thead th {\n",
       "        text-align: left;\n",
       "    }\n",
       "\n",
       "    .dataframe tbody tr th {\n",
       "        vertical-align: top;\n",
       "    }\n",
       "</style>\n",
       "<table border=\"1\" class=\"dataframe\">\n",
       "  <thead>\n",
       "    <tr style=\"text-align: right;\">\n",
       "      <th></th>\n",
       "      <th>0</th>\n",
       "      <th>1</th>\n",
       "      <th>2</th>\n",
       "    </tr>\n",
       "  </thead>\n",
       "  <tbody>\n",
       "    <tr>\n",
       "      <th>0</th>\n",
       "      <td>129</td>\n",
       "      <td>108</td>\n",
       "      <td>61</td>\n",
       "    </tr>\n",
       "    <tr>\n",
       "      <th>1</th>\n",
       "      <td>117</td>\n",
       "      <td>96</td>\n",
       "      <td>51</td>\n",
       "    </tr>\n",
       "    <tr>\n",
       "      <th>2</th>\n",
       "      <td>102</td>\n",
       "      <td>77</td>\n",
       "      <td>36</td>\n",
       "    </tr>\n",
       "    <tr>\n",
       "      <th>3</th>\n",
       "      <td>94</td>\n",
       "      <td>64</td>\n",
       "      <td>26</td>\n",
       "    </tr>\n",
       "    <tr>\n",
       "      <th>4</th>\n",
       "      <td>97</td>\n",
       "      <td>59</td>\n",
       "      <td>22</td>\n",
       "    </tr>\n",
       "  </tbody>\n",
       "</table>\n",
       "</div>"
      ],
      "text/plain": [
       "     0    1   2\n",
       "0  129  108  61\n",
       "1  117   96  51\n",
       "2  102   77  36\n",
       "3   94   64  26\n",
       "4   97   59  22"
      ]
     },
     "execution_count": 2,
     "metadata": {},
     "output_type": "execute_result"
    }
   ],
   "source": [
    "df = pd.read_csv(r\"hw2-image.txt\",header=None,delimiter=\" \")\n",
    "df.head()"
   ]
  },
  {
   "cell_type": "code",
   "execution_count": 143,
   "metadata": {
    "collapsed": true
   },
   "outputs": [],
   "source": [
    "R = pd.Series([255,255,128,0,0,0,0,0])"
   ]
  },
  {
   "cell_type": "code",
   "execution_count": 144,
   "metadata": {
    "collapsed": true
   },
   "outputs": [],
   "source": [
    "G = pd.Series([255,0,0,255,128,0,0,0])"
   ]
  },
  {
   "cell_type": "code",
   "execution_count": 145,
   "metadata": {
    "collapsed": true
   },
   "outputs": [],
   "source": [
    "B = pd.Series([255,0,0,0,0,255,128,0])"
   ]
  },
  {
   "cell_type": "code",
   "execution_count": 146,
   "metadata": {
    "collapsed": true
   },
   "outputs": [],
   "source": [
    "initialCentroid= pd.concat([R,G,B], axis=1)"
   ]
  },
  {
   "cell_type": "code",
   "execution_count": 147,
   "metadata": {},
   "outputs": [
    {
     "data": {
      "text/html": [
       "<div>\n",
       "<style>\n",
       "    .dataframe thead tr:only-child th {\n",
       "        text-align: right;\n",
       "    }\n",
       "\n",
       "    .dataframe thead th {\n",
       "        text-align: left;\n",
       "    }\n",
       "\n",
       "    .dataframe tbody tr th {\n",
       "        vertical-align: top;\n",
       "    }\n",
       "</style>\n",
       "<table border=\"1\" class=\"dataframe\">\n",
       "  <thead>\n",
       "    <tr style=\"text-align: right;\">\n",
       "      <th></th>\n",
       "      <th>0</th>\n",
       "      <th>1</th>\n",
       "      <th>2</th>\n",
       "    </tr>\n",
       "  </thead>\n",
       "  <tbody>\n",
       "    <tr>\n",
       "      <th>0</th>\n",
       "      <td>255</td>\n",
       "      <td>255</td>\n",
       "      <td>255</td>\n",
       "    </tr>\n",
       "    <tr>\n",
       "      <th>1</th>\n",
       "      <td>255</td>\n",
       "      <td>0</td>\n",
       "      <td>0</td>\n",
       "    </tr>\n",
       "    <tr>\n",
       "      <th>2</th>\n",
       "      <td>128</td>\n",
       "      <td>0</td>\n",
       "      <td>0</td>\n",
       "    </tr>\n",
       "    <tr>\n",
       "      <th>3</th>\n",
       "      <td>0</td>\n",
       "      <td>255</td>\n",
       "      <td>0</td>\n",
       "    </tr>\n",
       "    <tr>\n",
       "      <th>4</th>\n",
       "      <td>0</td>\n",
       "      <td>128</td>\n",
       "      <td>0</td>\n",
       "    </tr>\n",
       "    <tr>\n",
       "      <th>5</th>\n",
       "      <td>0</td>\n",
       "      <td>0</td>\n",
       "      <td>255</td>\n",
       "    </tr>\n",
       "    <tr>\n",
       "      <th>6</th>\n",
       "      <td>0</td>\n",
       "      <td>0</td>\n",
       "      <td>128</td>\n",
       "    </tr>\n",
       "    <tr>\n",
       "      <th>7</th>\n",
       "      <td>0</td>\n",
       "      <td>0</td>\n",
       "      <td>0</td>\n",
       "    </tr>\n",
       "  </tbody>\n",
       "</table>\n",
       "</div>"
      ],
      "text/plain": [
       "     0    1    2\n",
       "0  255  255  255\n",
       "1  255    0    0\n",
       "2  128    0    0\n",
       "3    0  255    0\n",
       "4    0  128    0\n",
       "5    0    0  255\n",
       "6    0    0  128\n",
       "7    0    0    0"
      ]
     },
     "execution_count": 147,
     "metadata": {},
     "output_type": "execute_result"
    }
   ],
   "source": [
    "initialCentroid"
   ]
  },
  {
   "cell_type": "code",
   "execution_count": 153,
   "metadata": {
    "collapsed": true
   },
   "outputs": [],
   "source": [
    "def cluster(centroid,points):\n",
    "    centroid = np.matrix(centroid)\n",
    "    points = np.matrix(points)\n",
    "    cluster = []\n",
    "    newCentroid = [[0,0,0]]\n",
    "    for rows in points:\n",
    "        cluster.append(np.argmin(np.sum(np.square(np.subtract(rows,centroid)),axis=1)))\n",
    "        \n",
    "    for i in range(len(centroid)):\n",
    "        Sum=np.matrix([0,0,0])\n",
    "        length = cluster.count(i)\n",
    "        if (length>0):\n",
    "            for j in range(len(points)):\n",
    "                if cluster[j]==i:\n",
    "                    Sum = np.add(Sum,points[j])\n",
    "            mean = Sum/length\n",
    "            newCentroid=np.vstack([newCentroid,mean])\n",
    "        i+=1   \n",
    "    return(cluster,np.delete(newCentroid,0,0))"
   ]
  },
  {
   "cell_type": "code",
   "execution_count": 154,
   "metadata": {
    "collapsed": true
   },
   "outputs": [],
   "source": [
    "def computeError(cluster,centroid,points):\n",
    "    error = 0\n",
    "    centroid = np.matrix(centroid)\n",
    "    points = np.matrix(points)\n",
    "    for i in range(len(centroid)):\n",
    "        for j in range(len(points)):\n",
    "            if cluster[j]==i:\n",
    "                error = error + squareEuclidian(points[j],centroid[i])\n",
    "            j+=1\n",
    "    return(error)"
   ]
  },
  {
   "cell_type": "code",
   "execution_count": 155,
   "metadata": {
    "collapsed": true
   },
   "outputs": [],
   "source": [
    "def squareEuclidian(a,b):\n",
    "    e = 0\n",
    "    for i in a:\n",
    "        e+=np.sum(np.square(np.subtract(i,b)))\n",
    "    return(e)"
   ]
  },
  {
   "cell_type": "code",
   "execution_count": 156,
   "metadata": {
    "collapsed": true,
    "scrolled": true
   },
   "outputs": [],
   "source": [
    "def kmean(centroid, points):\n",
    "    errorList = [1]\n",
    "    b = cluster(centroid,points)\n",
    "    centroid = b[1]\n",
    "    errorList.append(computeError(b[0],centroid,points))\n",
    "    \n",
    "    while errorList[len(errorList)-1]!= errorList[len(errorList)-2]:\n",
    "        a = cluster(centroid,points)\n",
    "        centroid=a[1]\n",
    "        err = computeError(a[0],centroid,points)\n",
    "        print(err)\n",
    "        errorList.append(err)\n",
    "    return(centroid)\n",
    "            "
   ]
  },
  {
   "cell_type": "markdown",
   "metadata": {},
   "source": [
    "## Running the Kmean algorithm and check until there is no change in total cost"
   ]
  },
  {
   "cell_type": "code",
   "execution_count": 157,
   "metadata": {
    "scrolled": true
   },
   "outputs": [
    {
     "name": "stdout",
     "output_type": "stream",
     "text": [
      "183025425.342\n",
      "170742827.065\n",
      "156809662.225\n",
      "134268985.153\n",
      "130100346.068\n",
      "129763194.718\n",
      "129668514.315\n",
      "129617277.22\n",
      "129586574.628\n",
      "129569365.888\n",
      "129548951.041\n",
      "129535553.42\n",
      "129518973.493\n",
      "129504002.499\n",
      "129488225.137\n",
      "129473579.029\n",
      "129454202.88\n",
      "129432885.289\n",
      "129397712.73\n",
      "129328051.267\n",
      "129140633.624\n",
      "128566727.584\n",
      "126462691.898\n",
      "122853348.673\n",
      "120732801.699\n",
      "119474552.323\n",
      "118685954.53\n",
      "118237837.675\n",
      "118046085.269\n",
      "117967258.087\n",
      "117929886.176\n",
      "117910502.234\n",
      "117897501.043\n",
      "117890457.254\n",
      "117888153.356\n",
      "117887157.948\n",
      "117886773.01\n",
      "117886510.656\n",
      "117886300.031\n",
      "117886152.617\n",
      "117886107.092\n",
      "117886089.037\n",
      "117886075.016\n",
      "117886069.113\n",
      "117886062.403\n",
      "117886061.64\n",
      "117886061.64\n"
     ]
    },
    {
     "data": {
      "text/plain": [
       "matrix([[ 241.2296146 ,  238.62515213,  233.86288032],\n",
       "        [ 194.41158657,  136.33311389,   90.94364714],\n",
       "        [ 136.2655563 ,   61.08973066,   10.10385457],\n",
       "        [ 157.29173273,   97.59397508,   51.43329558],\n",
       "        [  78.92743714,   37.10828688,   13.07070482],\n",
       "        [  25.97800232,   23.23575423,   23.60599063]])"
      ]
     },
     "execution_count": 157,
     "metadata": {},
     "output_type": "execute_result"
    }
   ],
   "source": [
    "kmean(initialCentroid,df)"
   ]
  },
  {
   "cell_type": "code",
   "execution_count": null,
   "metadata": {
    "collapsed": true
   },
   "outputs": [],
   "source": [
    "z = cluster([[ 241.2296146 ,  238.62515213,  233.86288032],\n",
    "        [ 194.41158657,  136.33311389,   90.94364714],\n",
    "        [ 136.2655563 ,   61.08973066,   10.10385457],\n",
    "        [ 157.29173273,   97.59397508,   51.43329558],\n",
    "        [  78.92743714,   37.10828688,   13.07070482],\n",
    "        [  25.97800232,   23.23575423,   23.60599063]],df)"
   ]
  },
  {
   "cell_type": "markdown",
   "metadata": {},
   "source": [
    "# There is total 6 cluster and inside the cl list are all the different cluster"
   ]
  },
  {
   "cell_type": "code",
   "execution_count": 58,
   "metadata": {},
   "outputs": [
    {
     "name": "stdout",
     "output_type": "stream",
     "text": [
      "[3, 2, 4, 5, 1, 0]\n"
     ]
    }
   ],
   "source": [
    "#no of cluster\n",
    "cl = []\n",
    "for x in z[0]:\n",
    "    if x not in cl:\n",
    "        cl.append(x)\n",
    "print(cl)\n",
    "#6 different clusters"
   ]
  },
  {
   "cell_type": "markdown",
   "metadata": {},
   "source": [
    "## Final Centroid with each cluster\n",
    "### Element of the cl correspond to the index of the matrix below.\n",
    "### Cluster 0 has centroid [ 241.2296146   238.62515213  233.86288032]"
   ]
  },
  {
   "cell_type": "code",
   "execution_count": 59,
   "metadata": {},
   "outputs": [
    {
     "name": "stdout",
     "output_type": "stream",
     "text": [
      "[[ 241.2296146   238.62515213  233.86288032]\n",
      " [ 194.41158657  136.33311389   90.94364714]\n",
      " [ 136.2655563    61.08973066   10.10385457]\n",
      " [ 157.29173273   97.59397508   51.43329558]\n",
      " [  78.92743714   37.10828688   13.07070482]\n",
      " [  25.97800232   23.23575423   23.60599063]]\n"
     ]
    }
   ],
   "source": [
    "#final Centroid with each cluster\n",
    "#based on index\n",
    "#index = zero in this list, correspond to element 0 in above list\n",
    "print(z[1])"
   ]
  },
  {
   "cell_type": "markdown",
   "metadata": {},
   "source": [
    "## Number of pixel associated with each cluster"
   ]
  },
  {
   "cell_type": "code",
   "execution_count": 493,
   "metadata": {
    "scrolled": true
   },
   "outputs": [
    {
     "name": "stdout",
     "output_type": "stream",
     "text": [
      "{3: 22075, 2: 52535, 4: 40365, 5: 74917, 1: 15190, 0: 4930}\n"
     ]
    }
   ],
   "source": [
    "#number of pixel associated to each cluster\n",
    "noOfPixel = {}\n",
    "for i in cl:\n",
    "    noOfPixel[i] = z[0].count(i)\n",
    "print(noOfPixel)"
   ]
  },
  {
   "cell_type": "code",
   "execution_count": 495,
   "metadata": {
    "collapsed": true
   },
   "outputs": [],
   "source": [
    "#if u refer above when i did the kmeans method, i already printed out the cost\n",
    "# which is the sum of squared Euclidean distance of each pixel to the nearest centroid\n",
    "\n",
    "y =[183025425.342,\n",
    "170742827.065,\n",
    "156809662.225,\n",
    "134268985.153,\n",
    "130100346.068,\n",
    "129763194.718,\n",
    "129668514.315,\n",
    "129617277.22,\n",
    "129586574.628,\n",
    "129569365.888,\n",
    "129548951.041,\n",
    "129535553.42,\n",
    "129518973.493,\n",
    "129504002.499,\n",
    "129488225.137,\n",
    "129473579.029,\n",
    "129454202.88,\n",
    "129432885.289,\n",
    "129397712.73,\n",
    "129328051.267,\n",
    "129140633.624,\n",
    "128566727.584,\n",
    "126462691.898,\n",
    "122853348.673,\n",
    "120732801.699,\n",
    "119474552.323,\n",
    "118685954.53,\n",
    "118237837.675,\n",
    "118046085.269,\n",
    "117967258.087,\n",
    "117929886.176,\n",
    "117910502.234,\n",
    "117897501.043,\n",
    "117890457.254,\n",
    "117888153.356,\n",
    "117887157.948,\n",
    "117886773.01,\n",
    "117886510.656,\n",
    "117886300.031,\n",
    "117886152.617,\n",
    "117886107.092,\n",
    "117886089.037,\n",
    "117886075.016,\n",
    "117886069.113,\n",
    "117886062.403,\n",
    "117886061.64,\n",
    "117886061.64]"
   ]
  },
  {
   "cell_type": "markdown",
   "metadata": {},
   "source": [
    "## Plotting Square euclidian distance against no of iterations"
   ]
  },
  {
   "cell_type": "code",
   "execution_count": 500,
   "metadata": {
    "scrolled": true
   },
   "outputs": [
    {
     "data": {
      "text/plain": [
       "<module 'matplotlib.pyplot' from 'C:\\\\Users\\\\user\\\\Anaconda3\\\\lib\\\\site-packages\\\\matplotlib\\\\pyplot.py'>"
      ]
     },
     "execution_count": 500,
     "metadata": {},
     "output_type": "execute_result"
    },
    {
     "data": {
      "image/png": "[encoded data removed]",
      "text/plain": [
       "<Figure size 432x288 with 1 Axes>"
      ]
     },
     "metadata": {
      "needs_background": "light"
     },
     "output_type": "display_data"
    }
   ],
   "source": [
    "index = []\n",
    "for i in range(len(y)):\n",
    "        index.append(i)\n",
    "plt.scatter(x=index , y=y)\n",
    "plt.xlabel(\"No of Iterations\")\n",
    "plt.ylabel(\"Squared Euclidean distance\")\n",
    "plt\n"
   ]
  },
  {
   "cell_type": "markdown",
   "metadata": {},
   "source": [
    "## Visualising Obama back with the centroid"
   ]
  },
  {
   "cell_type": "code",
   "execution_count": 158,
   "metadata": {},
   "outputs": [
    {
     "data": {
      "text/plain": [
       "<module 'matplotlib.pyplot' from 'C:\\\\Users\\\\user\\\\Anaconda3\\\\lib\\\\site-packages\\\\matplotlib\\\\pyplot.py'>"
      ]
     },
     "execution_count": 158,
     "metadata": {},
     "output_type": "execute_result"
    },
    {
     "data": {
      "image/png": "[encoded data removed]",
      "text/plain": [
       "<Figure size 432x288 with 1 Axes>"
      ]
     },
     "metadata": {
      "needs_background": "light"
     },
     "output_type": "display_data"
    }
   ],
   "source": [
    "centroid = []\n",
    "l = np.array(z[0])\n",
    "for i in z[0]:\n",
    "    centroid.append(np.array(z[1][i].astype(int)))\n",
    "\n",
    "plt.imshow(np.reshape(centroid,(516,407,3)))\n",
    "plt "
   ]
  },
  {
   "cell_type": "markdown",
   "metadata": {},
   "source": [
    "# End of Question 1. =)"
   ]
  },
  {
   "cell_type": "code",
   "execution_count": 3,
   "metadata": {
    "scrolled": true
   },
   "outputs": [
    {
     "data": {
      "text/plain": [
       "<module 'matplotlib.pyplot' from 'C:\\\\Users\\\\user\\\\Anaconda3\\\\lib\\\\site-packages\\\\matplotlib\\\\pyplot.py'>"
      ]
     },
     "execution_count": 3,
     "metadata": {},
     "output_type": "execute_result"
    },
    {
     "data": {
      "image/png": "[encoded data removed]",
      "text/plain": [
       "<Figure size 432x288 with 2 Axes>"
      ]
     },
     "metadata": {
      "needs_background": "light"
     },
     "output_type": "display_data"
    }
   ],
   "source": [
    "### end of Question 1\n",
    "import matplotlib.image as mpimg\n",
    "tr = mpimg.imread('hi.png')\n",
    "\n",
    "fig = plt.figure()\n",
    "a = fig.add_subplot(1, 2, 1)\n",
    "\n",
    "#plt.title('What ML Did to Me')\n",
    "\n",
    "imgplot = plt.imshow(np.reshape(np.matrix(df[0]),(516,407)))\n",
    "a.set_title('Before')\n",
    "a = fig.add_subplot(1, 2, 2)\n",
    "imgplot = plt.imshow(tr)\n",
    "imgplot.set_clim(0.0, 0.7)\n",
    "a.set_title('After')\n",
    "plt.suptitle('What ML Did to Me!!!!!!',fontsize = 18)\n",
    "plt"
   ]
  },
  {
   "cell_type": "markdown",
   "metadata": {},
   "source": [
    "## Question 2 :\n",
    "\n",
    "### Taking X(0,0) as a reference point, \n",
    "\n",
    "#### Using Manhattan Distance :\n",
    "Distance to X(4,4) = 8\n",
    "Distance to X(0,-6) = 6\n",
    "Distance to X(-5,2) = 7\n",
    "\n",
    "#### Using Euclidian distance :\n",
    "Distance to X(4,4) = Root(32) \n",
    "Distance to X(0,-6) = Root(36)\n",
    "Distance to X(-5,2) = Root(29)\n",
    "\n",
    "#### Using Maximum Absolute Distance :\n",
    "Distance to X(4,4) = 4\n",
    "Distance to X(0,-6) = 6\n",
    "Distance to X(-5,2) = 5\n",
    "\n",
    "    In order for points to be in the same cluster, the distance between these points must be the smallest as compared to the distance between themselves and other points out of the cluster. \n",
    "    \n",
    "#### Therefore, for A :\n",
    "Maximum Absolute Distance is used because distance between X(0,0) to X(4,4) are the smallest.\n",
    "\n",
    "#### B : Euclidian Distance\n",
    "\n",
    "#### C : Manhattan Distance"
   ]
  },
  {
   "cell_type": "markdown",
   "metadata": {},
   "source": [
    "## Question 3:\n",
    "### Advantages:\n",
    "There will be situations when our data sets more discrete and thus, calculating the means will not be logical. For example, when the goal of the problem is to identify one of the data sets or choosing an article, it does not make sense to find the mean because it would require creating a new article with average of all the different articles.\n",
    "\n",
    "### Disadvantages:\n",
    "It is computationally heavy and costly as compared to K means. Reason because we have to iterate through all the datasets and let all the data sets to be an examplar and calculate the cost. "
   ]
  },
  {
   "cell_type": "code",
   "execution_count": null,
   "metadata": {
    "collapsed": true
   },
   "outputs": [],
   "source": []
  }
 ],
 "metadata": {
  "kernelspec": {
   "display_name": "Python 3",
   "language": "python",
   "name": "python3"
  },
  "language_info": {
   "codemirror_mode": {
    "name": "ipython",
    "version": 3
   },
   "file_extension": ".py",
   "mimetype": "text/x-python",
   "name": "python",
   "nbconvert_exporter": "python",
   "pygments_lexer": "ipython3",
   "version": "3.6.3"
  }
 },
 "nbformat": 4,
 "nbformat_minor": 2
}
